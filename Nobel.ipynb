{
 "cells": [
  {
   "cell_type": "markdown",
   "metadata": {},
   "source": [
    "# Analysis of Nobel Laurets\n",
    "\n"
   ]
  },
  {
   "cell_type": "markdown",
   "metadata": {},
   "source": [
    "### Content\n",
    "+ Introduction: Nobel prize\n",
    "+ Data description and objectives\n",
    "+ Data analysis and visualization \n",
    "+ Conclusion"
   ]
  },
  {
   "cell_type": "markdown",
   "metadata": {},
   "source": [
    "## 1. Introduction: Nobel prize"
   ]
  },
  {
   "cell_type": "markdown",
   "metadata": {},
   "source": [
    "Awarded for “the greatest benefit to humankind”\n",
    "\n",
    "Between 1901 and 2019, the Nobel Prizes and the Prize in Economic Sciences were awarded 597 times to 950 people and organisations. The Nobel Prize is an international award administered by the Nobel Foundation in Stockholm, Sweden, and based on the fortune of Alfred Nobel, Swedish inventor and entrepreneur. In 1968, Sveriges Riksbank established The Sveriges Riksbank Prize in Economic Sciences in Memory of Alfred Nobel, founder of the Nobel Prize. Each prize consists of a medal, a personal diploma, and a cash award.\n",
    "\n",
    "A person or organisation awarded the Nobel Prize is called Nobel Laureate. The word “laureate” refers to being signified by the laurel wreath. In ancient Greece, laurel wreaths were awarded to victors as a sign of honour.\n",
    "\n"
   ]
  },
  {
   "cell_type": "markdown",
   "metadata": {},
   "source": [
    "source: https://www.nobelprize.org/prizes/"
   ]
  },
  {
   "cell_type": "markdown",
   "metadata": {},
   "source": [
    "## 2. Data description and objectives"
   ]
  },
  {
   "cell_type": "markdown",
   "metadata": {},
   "source": [
    "The Nobel Prize is given to the best minds on our planet.\n",
    "It is not difficult to assume that the gender ratio of laureates as well as the ratio in different eras of the western and eastern parts of the world are different\n",
    "And we will consider some aspects and visually analyze in detail the Nobel Prize, taking into account such aspects as gender, age, birth month, age, as well as university\n",
    "\n",
    "Below is data that we will be used for our analysis:\n",
    "\n",
    "+ born country code - country where **laureate** was born \n",
    "+ died country code -  country where **laureate** died\n",
    "+ gender - sex of **laureate** \n",
    "+ year - when **laureate** get his prize\n",
    "+ category - category of **laureate** prize\n",
    "+ share - how many people received for this research besides **laureate**\n",
    "+ name of university - **laureate**'s university where he/she stady or take some degree\n",
    "+ country of university - country of university\n",
    "+ born month - born month\n",
    "+ age - how old **laureate** are now(2019)or when he died\n",
    "+ age get prize - age of **laureate** when he get prize\n",
    "\n",
    "\n",
    "\n"
   ]
  },
  {
   "cell_type": "markdown",
   "metadata": {},
   "source": [
    "#### 2.1 For analysis, we will consider issues such as:\n",
    "1. Base Analysis (Country, gender, university)\n",
    "2. Sex ratio in different areas\n",
    "3. Prize behavior during World War I and II\n",
    "4. Analysis of laureates during the Cold War, in particular scientists of the USSR and the USA\n",
    "5. Analysis of natural factors such as: month of birth, age"
   ]
  },
  {
   "cell_type": "markdown",
   "metadata": {},
   "source": [
    "Historical eras:\n",
    "\n",
    "1. World War I (1914-1918) https://en.wikipedia.org/wiki/World_War_I\n",
    "2. World War II (1939-1945) https://en.wikipedia.org/wiki/World_War_II\n",
    "3. Cold War (1947-1991) https://en.wikipedia.org/wiki/Cold_War\n",
    "4. USSR (1922-1991) https://en.wikipedia.org/wiki/Soviet_Union"
   ]
  },
  {
   "cell_type": "markdown",
   "metadata": {},
   "source": [
    "## 3. Data analysis and visualization \n",
    "\n",
    "Berfor analyze read the dataset"
   ]
  },
  {
   "cell_type": "code",
   "execution_count": 9,
   "metadata": {},
   "outputs": [],
   "source": [
    "import time\n",
    "import numpy as np\n",
    "import pandas as pd\n",
    "import matplotlib.pyplot as plt\n",
    "import seaborn as sns\n",
    "import plotly.graph_objects as go\n",
    "import plotly.express as px\n",
    "from plotly.subplots import make_subplots"
   ]
  },
  {
   "cell_type": "code",
   "execution_count": 10,
   "metadata": {},
   "outputs": [
    {
     "data": {
      "text/plain": [
       "(923, 14)"
      ]
     },
     "execution_count": 10,
     "metadata": {},
     "output_type": "execute_result"
    }
   ],
   "source": [
    "df = pd.read_csv('nobel_final.csv')\n",
    "df.shape\n"
   ]
  },
  {
   "cell_type": "code",
   "execution_count": 30,
   "metadata": {},
   "outputs": [
    {
     "data": {
      "text/html": [
       "<div>\n",
       "<style scoped>\n",
       "    .dataframe tbody tr th:only-of-type {\n",
       "        vertical-align: middle;\n",
       "    }\n",
       "\n",
       "    .dataframe tbody tr th {\n",
       "        vertical-align: top;\n",
       "    }\n",
       "\n",
       "    .dataframe thead th {\n",
       "        text-align: right;\n",
       "    }\n",
       "</style>\n",
       "<table border=\"1\" class=\"dataframe\">\n",
       "  <thead>\n",
       "    <tr style=\"text-align: right;\">\n",
       "      <th></th>\n",
       "      <th>firstname</th>\n",
       "      <th>surname</th>\n",
       "      <th>born_country_code</th>\n",
       "      <th>died_country_code</th>\n",
       "      <th>gender</th>\n",
       "      <th>year</th>\n",
       "      <th>category</th>\n",
       "      <th>share</th>\n",
       "      <th>name_of_university</th>\n",
       "      <th>city_of_university</th>\n",
       "      <th>country_of_university</th>\n",
       "      <th>born_month</th>\n",
       "      <th>age</th>\n",
       "      <th>age_get_prize</th>\n",
       "    </tr>\n",
       "  </thead>\n",
       "  <tbody>\n",
       "    <tr>\n",
       "      <th>0</th>\n",
       "      <td>Wilhelm Conrad</td>\n",
       "      <td>Röntgen</td>\n",
       "      <td>DE</td>\n",
       "      <td>DE</td>\n",
       "      <td>male</td>\n",
       "      <td>1901</td>\n",
       "      <td>physics</td>\n",
       "      <td>1</td>\n",
       "      <td>Munich University</td>\n",
       "      <td>Munich</td>\n",
       "      <td>Germany</td>\n",
       "      <td>Mar</td>\n",
       "      <td>78</td>\n",
       "      <td>56</td>\n",
       "    </tr>\n",
       "    <tr>\n",
       "      <th>1</th>\n",
       "      <td>Hendrik A.</td>\n",
       "      <td>Lorentz</td>\n",
       "      <td>NL</td>\n",
       "      <td>NL</td>\n",
       "      <td>male</td>\n",
       "      <td>1902</td>\n",
       "      <td>physics</td>\n",
       "      <td>2</td>\n",
       "      <td>Leiden University</td>\n",
       "      <td>Leiden</td>\n",
       "      <td>the Netherlands</td>\n",
       "      <td>Jul</td>\n",
       "      <td>75</td>\n",
       "      <td>49</td>\n",
       "    </tr>\n",
       "    <tr>\n",
       "      <th>2</th>\n",
       "      <td>Pieter</td>\n",
       "      <td>Zeeman</td>\n",
       "      <td>NL</td>\n",
       "      <td>NL</td>\n",
       "      <td>male</td>\n",
       "      <td>1902</td>\n",
       "      <td>physics</td>\n",
       "      <td>2</td>\n",
       "      <td>Amsterdam University</td>\n",
       "      <td>Amsterdam</td>\n",
       "      <td>the Netherlands</td>\n",
       "      <td>May</td>\n",
       "      <td>78</td>\n",
       "      <td>37</td>\n",
       "    </tr>\n",
       "    <tr>\n",
       "      <th>3</th>\n",
       "      <td>Henri</td>\n",
       "      <td>Becquerel</td>\n",
       "      <td>FR</td>\n",
       "      <td>FR</td>\n",
       "      <td>male</td>\n",
       "      <td>1903</td>\n",
       "      <td>physics</td>\n",
       "      <td>2</td>\n",
       "      <td>École Polytechnique</td>\n",
       "      <td>Paris</td>\n",
       "      <td>France</td>\n",
       "      <td>Dec</td>\n",
       "      <td>56</td>\n",
       "      <td>51</td>\n",
       "    </tr>\n",
       "    <tr>\n",
       "      <th>4</th>\n",
       "      <td>Pierre</td>\n",
       "      <td>Curie</td>\n",
       "      <td>FR</td>\n",
       "      <td>FR</td>\n",
       "      <td>male</td>\n",
       "      <td>1903</td>\n",
       "      <td>physics</td>\n",
       "      <td>4</td>\n",
       "      <td>École municipale de physique et de chimie indu...</td>\n",
       "      <td>Paris</td>\n",
       "      <td>France</td>\n",
       "      <td>May</td>\n",
       "      <td>47</td>\n",
       "      <td>44</td>\n",
       "    </tr>\n",
       "    <tr>\n",
       "      <th>...</th>\n",
       "      <td>...</td>\n",
       "      <td>...</td>\n",
       "      <td>...</td>\n",
       "      <td>...</td>\n",
       "      <td>...</td>\n",
       "      <td>...</td>\n",
       "      <td>...</td>\n",
       "      <td>...</td>\n",
       "      <td>...</td>\n",
       "      <td>...</td>\n",
       "      <td>...</td>\n",
       "      <td>...</td>\n",
       "      <td>...</td>\n",
       "      <td>...</td>\n",
       "    </tr>\n",
       "    <tr>\n",
       "      <th>918</th>\n",
       "      <td>Peter</td>\n",
       "      <td>Handke</td>\n",
       "      <td>AT</td>\n",
       "      <td>NaN</td>\n",
       "      <td>male</td>\n",
       "      <td>2019</td>\n",
       "      <td>literature</td>\n",
       "      <td>1</td>\n",
       "      <td>NaN</td>\n",
       "      <td>NaN</td>\n",
       "      <td>NaN</td>\n",
       "      <td>Dec</td>\n",
       "      <td>78</td>\n",
       "      <td>77</td>\n",
       "    </tr>\n",
       "    <tr>\n",
       "      <th>919</th>\n",
       "      <td>Abiy</td>\n",
       "      <td>Ahmed Ali</td>\n",
       "      <td>ET</td>\n",
       "      <td>NaN</td>\n",
       "      <td>male</td>\n",
       "      <td>2019</td>\n",
       "      <td>peace</td>\n",
       "      <td>1</td>\n",
       "      <td>NaN</td>\n",
       "      <td>NaN</td>\n",
       "      <td>NaN</td>\n",
       "      <td>Aug</td>\n",
       "      <td>44</td>\n",
       "      <td>43</td>\n",
       "    </tr>\n",
       "    <tr>\n",
       "      <th>920</th>\n",
       "      <td>Abhijit</td>\n",
       "      <td>Banerjee</td>\n",
       "      <td>IN</td>\n",
       "      <td>NaN</td>\n",
       "      <td>male</td>\n",
       "      <td>2019</td>\n",
       "      <td>economics</td>\n",
       "      <td>3</td>\n",
       "      <td>Massachusetts Institute of Technology (MIT)</td>\n",
       "      <td>Cambridge MA</td>\n",
       "      <td>USA</td>\n",
       "      <td>Feb</td>\n",
       "      <td>59</td>\n",
       "      <td>58</td>\n",
       "    </tr>\n",
       "    <tr>\n",
       "      <th>921</th>\n",
       "      <td>Esther</td>\n",
       "      <td>Duflo</td>\n",
       "      <td>FR</td>\n",
       "      <td>NaN</td>\n",
       "      <td>female</td>\n",
       "      <td>2019</td>\n",
       "      <td>economics</td>\n",
       "      <td>3</td>\n",
       "      <td>Massachusetts Institute of Technology (MIT)</td>\n",
       "      <td>Cambridge MA</td>\n",
       "      <td>USA</td>\n",
       "      <td>Oct</td>\n",
       "      <td>48</td>\n",
       "      <td>47</td>\n",
       "    </tr>\n",
       "    <tr>\n",
       "      <th>922</th>\n",
       "      <td>Michael</td>\n",
       "      <td>Kremer</td>\n",
       "      <td>US</td>\n",
       "      <td>NaN</td>\n",
       "      <td>male</td>\n",
       "      <td>2019</td>\n",
       "      <td>economics</td>\n",
       "      <td>3</td>\n",
       "      <td>Harvard University</td>\n",
       "      <td>Cambridge MA</td>\n",
       "      <td>USA</td>\n",
       "      <td>Nov</td>\n",
       "      <td>56</td>\n",
       "      <td>55</td>\n",
       "    </tr>\n",
       "  </tbody>\n",
       "</table>\n",
       "<p>923 rows × 14 columns</p>\n",
       "</div>"
      ],
      "text/plain": [
       "          firstname    surname born_country_code died_country_code  gender  \\\n",
       "0    Wilhelm Conrad    Röntgen                DE                DE    male   \n",
       "1        Hendrik A.    Lorentz                NL                NL    male   \n",
       "2            Pieter     Zeeman                NL                NL    male   \n",
       "3             Henri  Becquerel                FR                FR    male   \n",
       "4            Pierre      Curie                FR                FR    male   \n",
       "..              ...        ...               ...               ...     ...   \n",
       "918           Peter     Handke                AT               NaN    male   \n",
       "919            Abiy  Ahmed Ali                ET               NaN    male   \n",
       "920         Abhijit   Banerjee                IN               NaN    male   \n",
       "921          Esther      Duflo                FR               NaN  female   \n",
       "922         Michael     Kremer                US               NaN    male   \n",
       "\n",
       "     year    category  share  \\\n",
       "0    1901     physics      1   \n",
       "1    1902     physics      2   \n",
       "2    1902     physics      2   \n",
       "3    1903     physics      2   \n",
       "4    1903     physics      4   \n",
       "..    ...         ...    ...   \n",
       "918  2019  literature      1   \n",
       "919  2019       peace      1   \n",
       "920  2019   economics      3   \n",
       "921  2019   economics      3   \n",
       "922  2019   economics      3   \n",
       "\n",
       "                                    name_of_university city_of_university  \\\n",
       "0                                    Munich University             Munich   \n",
       "1                                    Leiden University             Leiden   \n",
       "2                                 Amsterdam University          Amsterdam   \n",
       "3                                  École Polytechnique              Paris   \n",
       "4    École municipale de physique et de chimie indu...              Paris   \n",
       "..                                                 ...                ...   \n",
       "918                                                NaN                NaN   \n",
       "919                                                NaN                NaN   \n",
       "920        Massachusetts Institute of Technology (MIT)       Cambridge MA   \n",
       "921        Massachusetts Institute of Technology (MIT)       Cambridge MA   \n",
       "922                                 Harvard University       Cambridge MA   \n",
       "\n",
       "    country_of_university born_month  age  age_get_prize  \n",
       "0                 Germany        Mar   78             56  \n",
       "1         the Netherlands        Jul   75             49  \n",
       "2         the Netherlands        May   78             37  \n",
       "3                  France        Dec   56             51  \n",
       "4                  France        May   47             44  \n",
       "..                    ...        ...  ...            ...  \n",
       "918                   NaN        Dec   78             77  \n",
       "919                   NaN        Aug   44             43  \n",
       "920                   USA        Feb   59             58  \n",
       "921                   USA        Oct   48             47  \n",
       "922                   USA        Nov   56             55  \n",
       "\n",
       "[923 rows x 14 columns]"
      ]
     },
     "execution_count": 30,
     "metadata": {},
     "output_type": "execute_result"
    }
   ],
   "source": [
    "df"
   ]
  },
  {
   "cell_type": "markdown",
   "metadata": {},
   "source": [
    "### 3.1 Base Analysis \n"
   ]
  },
  {
   "cell_type": "markdown",
   "metadata": {},
   "source": [
    "#### 3.1.1 Most Nobel Winner Countries\n"
   ]
  },
  {
   "cell_type": "code",
   "execution_count": 23,
   "metadata": {},
   "outputs": [
    {
     "data": {
      "image/png": "[encoded data removed]",
      "text/plain": [
       "<Figure size 1296x360 with 1 Axes>"
      ]
     },
     "metadata": {
      "needs_background": "light"
     },
     "output_type": "display_data"
    }
   ],
   "source": [
    "nobel_country = df['born_country_code'].value_counts().to_frame()\n",
    "nobel_country = nobel_country[nobel_country['born_country_code'] >= 7]\n",
    "plt.figure(figsize=(18, 5))\n",
    "sns.barplot(x = nobel_country.index , y = 'born_country_code' ,data = nobel_country)\n",
    "plt.xlabel('Country Code')\n",
    "plt.ylabel('Number of Nobel winners')\n",
    "plt.show()"
   ]
  },
  {
   "cell_type": "markdown",
   "metadata": {},
   "source": [
    "**USA, Great British, Deutschland(Germany)** and **France** has most winners respectively "
   ]
  },
  {
   "cell_type": "markdown",
   "metadata": {},
   "source": [
    "#### 3.1.2 Top Universities with Nobel winers\n"
   ]
  },
  {
   "cell_type": "code",
   "execution_count": 27,
   "metadata": {},
   "outputs": [],
   "source": [
    "nobel_university_winner = df['name_of_university'].value_counts().to_frame()\n",
    "nobel_university_winner = nobel_university_winner[nobel_university_winner['name_of_university'] >= 7]\n"
   ]
  },
  {
   "cell_type": "code",
   "execution_count": 29,
   "metadata": {},
   "outputs": [
    {
     "data": {
      "image/png": "[encoded data removed]",
      "text/plain": [
       "<Figure size 720x360 with 1 Axes>"
      ]
     },
     "metadata": {
      "needs_background": "light"
     },
     "output_type": "display_data"
    }
   ],
   "source": [
    "plt.figure(figsize=(10, 5))\n",
    "sns.barplot(y = nobel_university_winner.index , x = 'name_of_university' ,data = nobel_university_winner ,palette = sns.color_palette('Set2'))\n",
    "plt.xlabel('Number of Prizes')\n",
    "plt.ylabel('Universites')\n",
    "plt.show()"
   ]
  },
  {
   "cell_type": "markdown",
   "metadata": {},
   "source": [
    "#### 3.1.3 Gender ratio for each sphere"
   ]
  },
  {
   "cell_type": "code",
   "execution_count": 30,
   "metadata": {},
   "outputs": [],
   "source": [
    "gender_winner = df.groupby('category')['gender'].value_counts().to_frame()\n",
    "gender_winner.columns = ['number of winners']\n",
    "gender_winner.reset_index(inplace=True)"
   ]
  },
  {
   "cell_type": "code",
   "execution_count": 33,
   "metadata": {},
   "outputs": [
    {
     "data": {
      "image/png": "[encoded data removed]",
      "text/plain": [
       "<Figure size 1080x360 with 1 Axes>"
      ]
     },
     "metadata": {
      "needs_background": "light"
     },
     "output_type": "display_data"
    }
   ],
   "source": [
    "plt.figure(figsize=(15, 5))\n",
    "sns.barplot(x = 'category' , y = 'number of winners' , hue = 'gender' ,data = gender_winner)\n",
    "plt.xlabel('Category')\n",
    "plt.ylabel('Number of winners')\n",
    "plt.show()"
   ]
  },
  {
   "cell_type": "markdown",
   "metadata": {},
   "source": [
    "The ratio of men and women is colossal in every area, however in category 'peace' ratio is less "
   ]
  },
  {
   "cell_type": "code",
   "execution_count": 59,
   "metadata": {},
   "outputs": [],
   "source": [
    "imigrate_from = {}\n",
    "imigrate_to = {}\n",
    "\n",
    "for nobeler in df.iterrows():\n",
    "    \n",
    "    born_country = nobeler[1]['born_country_code']\n",
    "    died_country = nobeler[1]['died_country_code']\n",
    "    if born_country != died_country and not pd.isna(died_country):\n",
    "        if born_country in imigrate_from:\n",
    "            imigrate_from[born_country] += 1\n",
    "        if born_country not in imigrate_from:\n",
    "            imigrate_from[born_country] = 1\n",
    "        if died_country in imigrate_to:\n",
    "            imigrate_to[died_country] += 1\n",
    "        else:\n",
    "            imigrate_to[died_country] = 1\n",
    "    \n",
    "    \n",
    "        \n",
    "        \n",
    "\n",
    "            "
   ]
  },
  {
   "cell_type": "code",
   "execution_count": 61,
   "metadata": {},
   "outputs": [
    {
     "data": {
      "text/plain": [
       "{'FR': 16,\n",
       " 'DE': 18,\n",
       " 'US': 71,\n",
       " 'GB': 21,\n",
       " 'CH': 17,\n",
       " 'IT': 3,\n",
       " 'RU': 3,\n",
       " 'RO': 1,\n",
       " 'AT': 2,\n",
       " 'SE': 4,\n",
       " 'AR': 2,\n",
       " 'ES': 4,\n",
       " 'CA': 2,\n",
       " 'BE': 2,\n",
       " 'NL': 1,\n",
       " 'TN': 1,\n",
       " 'IE': 3,\n",
       " 'JM': 1,\n",
       " 'NO': 2,\n",
       " 'GA': 1,\n",
       " 'ZA': 1,\n",
       " 'ZM': 1,\n",
       " 'IL': 3,\n",
       " 'IN': 1,\n",
       " 'PR': 1,\n",
       " 'RS': 1,\n",
       " 'GR': 1,\n",
       " 'AU': 1,\n",
       " 'PL': 1,\n",
       " 'MX': 1,\n",
       " 'BB': 1,\n",
       " 'SG': 1,\n",
       " 'PH': 1}"
      ]
     },
     "execution_count": 61,
     "metadata": {},
     "output_type": "execute_result"
    }
   ],
   "source": [
    "imigrate_to\n",
    "\n"
   ]
  },
  {
   "cell_type": "code",
   "execution_count": null,
   "metadata": {},
   "outputs": [],
   "source": []
  }
 ],
 "metadata": {
  "kernelspec": {
   "display_name": "Python 3",
   "language": "python",
   "name": "python3"
  },
  "language_info": {
   "codemirror_mode": {
    "name": "ipython",
    "version": 3
   },
   "file_extension": ".py",
   "mimetype": "text/x-python",
   "name": "python",
   "nbconvert_exporter": "python",
   "pygments_lexer": "ipython3",
   "version": "3.8.3"
  }
 },
 "nbformat": 4,
 "nbformat_minor": 4
}
